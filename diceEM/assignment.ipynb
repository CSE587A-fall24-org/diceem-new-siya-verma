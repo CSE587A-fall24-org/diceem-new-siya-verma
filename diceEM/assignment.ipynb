{
 "cells": [
  {
   "cell_type": "markdown",
   "metadata": {},
   "source": [
    "# Introduction\n",
    "\n",
    "This is a continuation of the `dice_sample` and `dice_posterior` assignments.\n",
    "In these assignments, we have a bag containing two types of dice with different\n",
    "probabilities of rolling each number (also referred to as a \"face\" of the die).\n",
    "Someone selects a die from the bag at random, rolls it a fixed number of times,\n",
    "reports the outcomes, returns it to the bag, and repeats the process. We refer\n",
    "each selection of a new die as a \"draw\". Here, you will write code to run the EM\n",
    "(Expectation Maximization) algorithm to estimate the parameters of the system --\n",
    "the probability of drawing each die type and the conditional probability of each\n",
    "face given the die type.\n",
    "\n",
    "This notebook provides a brief overview of the assignment but you'll have to\n",
    "read the code for detailed instructions.  \n",
    "\n",
    "All of the graded tests are written such that only two dice are in the bag.\n",
    "Feel free write the code such that it only functions on two dice or to write \n",
    "more general code which can operate on bags of any composition."
   ]
  },
  {
   "cell_type": "markdown",
   "metadata": {},
   "source": [
    "## Die and BagOfDice classes\n",
    "For this assignment, you will use our implementation of these two classes. These \n",
    "lines at the top of the assignment file make those two classes availble from our \n",
    "cse587Autils package:\n",
    "```python\n",
    "from cse587Autils.DiceObjects.Die import Die\n",
    "from cse587Autils.DiceObjects.BagOfDice import BagOfDice\n",
    "```\n",
    "These are more full featured implementations than the code we provided with\n",
    "the `dice-posterior` assignment.\n"
   ]
  },
  {
   "cell_type": "markdown",
   "metadata": {},
   "source": [
    "### Die class\n",
    "Instantiate with a list of the probabilities of rolling each face on the die.\n",
    "The list can be of any length but the probabilities must sum to one.\n",
    "```python\n",
    "biased_die = Die(face_probs=[0.1, 0.2, 0.7])\n",
    "print(biased_die) # prints Die([0.1, 0.2, 0.7])\n",
    "```\n",
    "You can get the number of faces with the <len> function\n",
    "```python\n",
    "len(biased_die) # returns 3\n",
    "```\n",
    "Previously, we used `num_faces` for that. You can also index into the die object\n",
    "directly to get face probabilities:\n",
    "\n",
    "```python\n",
    "biased_die[1] # returns 0.2. Note zero-based indexing.\n",
    "```"
   ]
  },
  {
   "cell_type": "markdown",
   "metadata": {},
   "source": [
    "### BagOfDice class\n",
    "Instantiate with two arguments. The first a list of the probabilies of drawing\n",
    "each die type, which must sum to one. The second is a list of Die objects \n",
    "representing the unique die types in the bag (each type is listed only once)."
   ]
  },
  {
   "cell_type": "code",
   "execution_count": 2,
   "metadata": {},
   "outputs": [
    {
     "name": "stdout",
     "output_type": "stream",
     "text": [
      "BagOfDice(die_priors=[0.25, 0.75], dice=[Die([0.3333, 0.3333, 0.3333]), Die([0.1, 0.2, 0.7])])\n"
     ]
    }
   ],
   "source": [
    "from cse587Autils.DiceObjects.BagOfDice import BagOfDice, Die\n",
    "fair_die = Die([1/3]*3) # In python, this is equivalent to Die[1/3, 1/3, 1/3]\n",
    "biased_die = Die(face_probs=[0.1, 0.2, 0.7])\n",
    "\n",
    "bag = BagOfDice([0.25, 0.75],[fair_die, biased_die])\n",
    "print(bag)"
   ]
  },
  {
   "cell_type": "markdown",
   "metadata": {},
   "source": [
    "Indexing into the bag returns tuple of the corresponding die's probability of\n",
    "being drawn and the die object itself. You can also iterate through the dice."
   ]
  },
  {
   "cell_type": "code",
   "execution_count": 3,
   "metadata": {},
   "outputs": [
    {
     "name": "stdout",
     "output_type": "stream",
     "text": [
      "die prior: 0.25\n",
      "die object: Die([0.3333, 0.3333, 0.3333])\n",
      "die prior: 0.75\n",
      "die object: Die([0.1, 0.2, 0.7])\n"
     ]
    }
   ],
   "source": [
    "bag[1] # Returns (0.75, Die([0.1, 0.2, 0.7]))\n",
    "for prior_die_pair in bag:\n",
    "    die_prior, die = prior_die_pair\n",
    "    print(f'die prior: {die_prior}\\ndie object: {die}')"
   ]
  },
  {
   "cell_type": "markdown",
   "metadata": {},
   "source": [
    "BagOfDice supports the following operations:"
   ]
  },
  {
   "cell_type": "code",
   "execution_count": 4,
   "metadata": {},
   "outputs": [
    {
     "name": "stdout",
     "output_type": "stream",
     "text": [
      "len() returns the number of dice in the bag: 2\n",
      "accessing the die priors: [0.25, 0.75]\n",
      "accessing the Die objects: [Die([0.3333, 0.3333, 0.3333]), Die([0.1, 0.2, 0.7])]\n"
     ]
    }
   ],
   "source": [
    "# len() returns the number of dice in the bag\n",
    "print(f'len() returns the number of dice in the bag: {len(bag)}')\n",
    "\n",
    "# there are getters (and setters) for the die_priors and dice\n",
    "print(f'accessing the die priors: {bag.die_priors}')\n",
    "print(f'accessing the Die objects: {bag.dice}')"
   ]
  },
  {
   "cell_type": "markdown",
   "metadata": {},
   "source": [
    "We can use the BagOfDice to generate sample data. For example, to \n",
    "produce a sample by drawing a die, with replacement, from the bag 5 times \n",
    "and rolling each die drawn 20 times, we can use the draw() method. `draw()`\n",
    "returns a numpy array containg the number of times each face was rolled on a \n",
    "given draw. The array length is the maximum number of faces among all the dice \n",
    "in the bag. Faces that were not rolled (either by chance or because they don't \n",
    "exist on the die) are represented by 0."
   ]
  },
  {
   "cell_type": "code",
   "execution_count": 5,
   "metadata": {},
   "outputs": [
    {
     "name": "stdout",
     "output_type": "stream",
     "text": [
      "[array([ 2,  4, 14]), array([ 0,  4, 16]), array([ 6, 11,  3]), array([4, 7, 9]), array([ 2,  4, 14])]\n"
     ]
    }
   ],
   "source": [
    "sample_data = [bag.draw(20) for _ in range(5)]\n",
    "print(sample_data)"
   ]
  },
  {
   "cell_type": "markdown",
   "metadata": {},
   "source": [
    "In your EM implementation, you will use a BagOfDice object to store the current \n",
    "estimates of the parameters. On each call to `m_step` you will create a new bag\n",
    "with updated parameter estimations.\n",
    "\n",
    "Your EM algorithm must stop when it converges -- that is, when the change in \n",
    "parameter estimates from one iteration to the next becomes very small. To\n",
    "characterize the change in parameters, we will use the sum of the absolute values\n",
    "of the differences between between the parameters, include die priors and face\n",
    "probabilities. We have implemented this measure for you. To get it, simply use\n",
    "the subtraction operator on two BagOfDice objects, as shown below. This will \n",
    "compare the first die of one bag to the first die of the other, etc. The order\n",
    "of dice is assumed to be the same, but this is not a problem for EM iterations --\n",
    "your estimates for each die will always be in the same order."
   ]
  },
  {
   "cell_type": "code",
   "execution_count": 6,
   "metadata": {},
   "outputs": [
    {
     "name": "stdout",
     "output_type": "stream",
     "text": [
      "bag difference: 0.4\n"
     ]
    }
   ],
   "source": [
    "bag1 = BagOfDice([0.5, 0.5], \n",
    "                 [Die([0.9, 0.1, 0.0]), Die([0.1, 0.1, 0.8])])\n",
    "bag2 = BagOfDice([0.6, 0.4], \n",
    "                 [Die([0.9, 0.1, 0.0]), Die([0.1, 0.2, 0.7])])\n",
    "print(f'bag difference: {bag1 - bag2}')"
   ]
  },
  {
   "cell_type": "markdown",
   "metadata": {},
   "source": [
    "## Input and Output\n",
    "\n",
    "The top level function is called diceEM:\n",
    "\n",
    "```python\n",
    "def diceEM(experiment_data: List[NDArray[np.int_]],\n",
    "           bag_of_dice: BagOfDice,\n",
    "           accuracy: float,\n",
    "           max_iterations: int = int(1e4)) -> [int, BagOfDice]:\n",
    "```\n",
    "\n",
    "where,\n",
    "\n",
    "- `experiment_data`  is a list of draws, each of which gives the results of\n",
    "drawing a die from the bag and rolling it n times and then aggregating the\n",
    "number of times each face appears. It is a list of numpy arrays, where the number \n",
    "of arrays is equal to the number of `draws` that is performed, and the sum of\n",
    "each individual array is the total number of times the die was rolled on that\n",
    "draw.\n",
    "\n",
    "- `max_iterations` similarly sets a threshold at the number of iterations the EM\n",
    "algorithm can run -- it is a good idea to set this to avoid endless, or\n",
    "needlessly long, loops. But, you may need to adjust this value depending on the\n",
    "accuracy. Default is 10000.\n",
    "\n",
    "The number of faces, trials per draw, etc., can all be calculated from the input\n",
    "data and so will not be provided. \n",
    "\n",
    "`diceEM()` implements the outer loop of the EM algorithm. It calls `e_step()`\n",
    "and `m_step()` on each iteration and updates its estimate of the parameters\n",
    "which generated the `experiment_data`. This updated estimate is used in the\n",
    "sebsequent iteration, and so on until the stop conditions are met.\n",
    "\n",
    "The return value of `diceEM()` is the final estimate of the parameters in the \n",
    "form of a `BagOfDice` object.\n",
    "\n",
    "Your `e_step()` code needs to calculate posteriors. You are welcome to use your \n",
    "dice_posterior code. If you did *not* have functioning `dice_posterior()` code, \n",
    "or you question its accuracy after pasting it in to this assignment, the TAs can\n",
    "provide correct dice_posterior code to you.\n",
    "\n",
    "Outlines of the code are provided in the file [assignment.py](assignment.py).\n",
    "Read the comments, too. You need to fill in key parts of the algorithms. Feel \n",
    "free to paste your dice_posterior code in.  \n",
    "\n",
    "**Important**: your code will be graded against the\n",
    "[test_assignment.py](test_assignment.py) code exactly as it is when you received\n",
    "this assignment. You are welcome to change it in your project, but those changes\n",
    "will *not* be reflected when your code is graded. So, we suggest you *do not*\n",
    "change the tests. Otherwise, you will potentially be surprised if your code\n",
    "fails during the automated grading."
   ]
  },
  {
   "cell_type": "markdown",
   "metadata": {},
   "source": [
    "## EM Initialization Tips\n",
    "\n",
    "To initialize the parameter estimates, do not make all the possibilities\n",
    "equally likely. If you do, the algorithm may get stuck and take longer to\n",
    "converge. However, do not make them\n",
    "too far from equally likely, either, to avoid strongly biasing the final result\n",
    "by the initial values. Since there are only two die types, I suggest\n",
    "initializing their probabilities to 0.45 and 0.55. For the probabilities of the\n",
    "faces of each die, I took a random real between 1/n and 2/n, where n is the\n",
    "number of faces. Then I normalized them so they would all add up to one using the call\n",
    "\n",
    "```\n",
    "list_of_numbers / sum(list_of_numbers)\n",
    "```"
   ]
  },
  {
   "cell_type": "markdown",
   "metadata": {},
   "source": [
    "## Experiments and questions\n",
    "\n",
    "### Number of iterations needed for convergence"
   ]
  },
  {
   "cell_type": "markdown",
   "metadata": {},
   "source": [
    "Given a very large dataset, how many iterations does it take to converge to within the required accuracy of 10^-4? How does that change if you tighten the convergence criterion to 10^-6? How about 10^-8. Please make a comment on the general pattern you observe."
   ]
  },
  {
   "cell_type": "code",
   "execution_count": 7,
   "metadata": {},
   "outputs": [
    {
     "ename": "NameError",
     "evalue": "name 'updated_bag_of_dice' is not defined",
     "output_type": "error",
     "traceback": [
      "\u001b[0;31m---------------------------------------------------------------------------\u001b[0m",
      "\u001b[0;31mNameError\u001b[0m                                 Traceback (most recent call last)",
      "Cell \u001b[0;32mIn[7], line 15\u001b[0m\n\u001b[1;32m      6\u001b[0m experiment_result \u001b[38;5;241m=\u001b[39m generate_sample([\u001b[38;5;241m4\u001b[39m,\u001b[38;5;241m6\u001b[39m], \n\u001b[1;32m      7\u001b[0m                                     [[\u001b[38;5;241m0.3\u001b[39m, \u001b[38;5;241m0.2\u001b[39m, \u001b[38;5;241m0.2\u001b[39m, \u001b[38;5;241m0.3\u001b[39m], \n\u001b[1;32m      8\u001b[0m                                      [\u001b[38;5;241m0\u001b[39m, \u001b[38;5;241m0.2\u001b[39m, \u001b[38;5;241m0.2\u001b[39m, \u001b[38;5;241m0.6\u001b[39m]], \n\u001b[1;32m      9\u001b[0m                                      \u001b[38;5;241m4000\u001b[39m, \n\u001b[1;32m     10\u001b[0m                                      \u001b[38;5;241m30\u001b[39m)\n\u001b[1;32m     12\u001b[0m init_bag \u001b[38;5;241m=\u001b[39m BagOfDice([\u001b[38;5;241m0.75\u001b[39m, \u001b[38;5;241m0.25\u001b[39m], \n\u001b[1;32m     13\u001b[0m                      [Die([\u001b[38;5;241m0.1\u001b[39m, \u001b[38;5;241m0.3\u001b[39m, \u001b[38;5;241m0.5\u001b[39m, \u001b[38;5;241m0.1\u001b[39m]), \n\u001b[1;32m     14\u001b[0m                       Die([\u001b[38;5;241m0.1\u001b[39m, \u001b[38;5;241m0.3\u001b[39m, \u001b[38;5;241m0.4\u001b[39m, \u001b[38;5;241m0.2\u001b[39m])])\n\u001b[0;32m---> 15\u001b[0m \u001b[43mdiceEM\u001b[49m\u001b[43m(\u001b[49m\u001b[43mexperiment_result\u001b[49m\u001b[43m,\u001b[49m\u001b[43m \u001b[49m\u001b[43minit_bag\u001b[49m\u001b[43m,\u001b[49m\u001b[43m \u001b[49m\u001b[38;5;241;43m10e-4\u001b[39;49m\u001b[43m,\u001b[49m\u001b[43m \u001b[49m\u001b[38;5;241;43m100\u001b[39;49m\u001b[43m)\u001b[49m\n",
      "File \u001b[0;32m/workspaces/diceem-new-siya-verma/diceEM/assignment.py:68\u001b[0m, in \u001b[0;36mdiceEM\u001b[0;34m(experiment_data, bag_of_dice, accuracy, max_iterations)\u001b[0m\n\u001b[1;32m     62\u001b[0m     \u001b[38;5;66;03m# YOUR CODE HERE. SET REQUIRED VARIABLES BY CALLING e-step AND m-step.\u001b[39;00m\n\u001b[1;32m     63\u001b[0m     \u001b[38;5;66;03m# E-step: compute the expected counts given current parameters        \u001b[39;00m\n\u001b[1;32m     64\u001b[0m \n\u001b[1;32m     65\u001b[0m     \u001b[38;5;66;03m# M-step: update the parameters given the expected counts\u001b[39;00m\n\u001b[1;32m     67\u001b[0m     prev_bag_of_dice: BagOfDice \u001b[38;5;241m=\u001b[39m bag_of_dice\n\u001b[0;32m---> 68\u001b[0m     bag_of_dice \u001b[38;5;241m=\u001b[39m \u001b[43mupdated_bag_of_dice\u001b[49m\n\u001b[1;32m     70\u001b[0m \u001b[38;5;28;01mreturn\u001b[39;00m iterations, bag_of_dice\n",
      "\u001b[0;31mNameError\u001b[0m: name 'updated_bag_of_dice' is not defined"
     ]
    }
   ],
   "source": [
    "from importlib import reload\n",
    "import diceEM.assignment as assign\n",
    "reload(assign) # This ensures code is reloaded each time\n",
    "from diceEM.assignment import diceEM, generate_sample\n",
    "\n",
    "experiment_result = generate_sample([4,6], \n",
    "                                    [[0.3, 0.2, 0.2, 0.3], \n",
    "                                     [0, 0.2, 0.2, 0.6]], \n",
    "                                     4000, \n",
    "                                     30)\n",
    "\n",
    "init_bag = BagOfDice([0.75, 0.25], \n",
    "                     [Die([0.1, 0.3, 0.5, 0.1]), \n",
    "                      Die([0.1, 0.3, 0.4, 0.2])])\n",
    "diceEM(experiment_result, init_bag, 10e-4, 100)"
   ]
  },
  {
   "cell_type": "markdown",
   "metadata": {},
   "source": [
    "Answer:"
   ]
  },
  {
   "cell_type": "markdown",
   "metadata": {},
   "source": [
    "How much effect does tightening the accuracy requirement by 2 or 4 orders of magnitude have on how well the algorithm identifies the correct parameters?"
   ]
  },
  {
   "cell_type": "markdown",
   "metadata": {},
   "source": [
    "Answer:"
   ]
  },
  {
   "cell_type": "markdown",
   "metadata": {},
   "source": [
    "Now let's change the parameters of the sample generated as shown below. \n",
    "\n",
    "How does this affect the number of iterations required to make the accuracy goal? Why do you think that is?"
   ]
  },
  {
   "cell_type": "code",
   "execution_count": null,
   "metadata": {},
   "outputs": [],
   "source": [
    "from importlib import reload\n",
    "import diceEM.assignment as assign\n",
    "reload(assign) # This ensures code is reloaded each time\n",
    "from diceEM.assignment import diceEM, generate_sample\n",
    "\n",
    "experiment_result = generate_sample([4, 6], [[0.3, 0.2, 0.3, 0.2], \n",
    "                                             [0.1, 0.2, 0.2, 0.5]], \n",
    "                                             4000, \n",
    "                                             30)\n",
    "\n",
    "init_bag = BagOfDice([0.75, 0.25], [Die([0.1, 0.3, 0.5, 0.1]), \n",
    "                                    Die([0.1, 0.3, 0.4, 0.2])])\n",
    "\n",
    "diceEM(experiment_result, init_bag, 10e-4, 100)"
   ]
  },
  {
   "cell_type": "markdown",
   "metadata": {},
   "source": [
    "Ansewer:"
   ]
  },
  {
   "cell_type": "markdown",
   "metadata": {},
   "source": [
    "### Sample size\n",
    "\n",
    "1. Consider the following experiment."
   ]
  },
  {
   "cell_type": "code",
   "execution_count": null,
   "metadata": {},
   "outputs": [],
   "source": [
    "from importlib import reload\n",
    "import diceEM.assignment as assign\n",
    "reload(assign) # This ensures code is reloaded each time\n",
    "from diceEM.assignment import diceEM, generate_sample\n",
    "\n",
    "face_probs = [[0.3, 0.3, 0.2, 0.2],\n",
    "              [0.2, 0.2, 0.2, 0.4]]\n",
    "\n",
    "experiment_result = generate_sample([4, 6], face_probs, 6000, 30)\n",
    "init_bag = BagOfDice([0.75, 0.25], [Die([0.1, 0.3, 0.5, 0.1]), \n",
    "                                    Die([0.1, 0.3, 0.4, 0.2])])\n",
    "\n",
    "inference_result = diceEM(experiment_result, init_bag, 10e-4, 100)\n",
    "print(inference_result[1])"
   ]
  },
  {
   "cell_type": "markdown",
   "metadata": {},
   "source": [
    "- How many die rolls are in this sample? "
   ]
  },
  {
   "cell_type": "markdown",
   "metadata": {},
   "source": [
    "Answer:"
   ]
  },
  {
   "cell_type": "markdown",
   "metadata": {},
   "source": [
    "- Try reducing the number of draws/trials while keeping the number of rolls constant. How many draws do you need with 30 rolls each to get the right answer consistently, to within two decimal places? "
   ]
  },
  {
   "cell_type": "code",
   "execution_count": null,
   "metadata": {},
   "outputs": [],
   "source": [
    "for data_seed in range(10):\n",
    "    data = generate_sample([4, 6], face_probs, 4000, 30, seed=data_seed)\n",
    "    print(diceEM(data, init_bag, 10e-4, 100))"
   ]
  },
  {
   "cell_type": "markdown",
   "metadata": {},
   "source": [
    "Answer:"
   ]
  },
  {
   "cell_type": "markdown",
   "metadata": {},
   "source": [
    "- If you don't have quite enough draws/trials, which parameters tend to be off?"
   ]
  },
  {
   "cell_type": "markdown",
   "metadata": {},
   "source": [
    "The priors were more off than the face probs."
   ]
  },
  {
   "cell_type": "markdown",
   "metadata": {},
   "source": [
    "- Now try changing the number of rolls per trial to 50. How many trials do you \n",
    "need to consistently get the right  answer consistently, to within two decimal places? "
   ]
  },
  {
   "cell_type": "code",
   "execution_count": null,
   "metadata": {},
   "outputs": [],
   "source": [
    "for data_seed in range(10):\n",
    "    data = generate_sample([4, 6], face_probs, 4000, 50, seed=data_seed)\n",
    "    print(diceEM(data, init_bag, 10e-4, 100))"
   ]
  },
  {
   "cell_type": "markdown",
   "metadata": {},
   "source": [
    "Answer"
   ]
  },
  {
   "cell_type": "markdown",
   "metadata": {},
   "source": [
    "- Does tightening the convergence criterion make the results substantially more accurate? "
   ]
  },
  {
   "cell_type": "markdown",
   "metadata": {},
   "source": [
    "Answer:"
   ]
  },
  {
   "cell_type": "markdown",
   "metadata": {},
   "source": []
  }
 ],
 "metadata": {
  "kernelspec": {
   "display_name": ".venv",
   "language": "python",
   "name": "python3"
  },
  "language_info": {
   "codemirror_mode": {
    "name": "ipython",
    "version": 3
   },
   "file_extension": ".py",
   "mimetype": "text/x-python",
   "name": "python",
   "nbconvert_exporter": "python",
   "pygments_lexer": "ipython3",
   "version": "3.10.12"
  }
 },
 "nbformat": 4,
 "nbformat_minor": 2
}
